{
 "cells": [
  {
   "cell_type": "code",
   "execution_count": 2,
   "metadata": {},
   "outputs": [],
   "source": [
    "import json"
   ]
  },
  {
   "cell_type": "code",
   "execution_count": null,
   "metadata": {},
   "outputs": [],
   "source": [
    "# Split symptoms into a list\n",
    "def extract_symptoms(string):\n",
    "    # Splitting on commas\n",
    "    split_comma_strings = [symptom.strip() for symptom in string.split(',')]\n",
    "\n",
    "    # Want to handle any \"and\" that separates symptoms.\n",
    "    # Ex. 'Headache and fever'\n",
    "    # Ex. 'Headache'\n",
    "    # Headache should count as a common symptom for both diseases\n",
    "    split_and_symptoms = []\n",
    "    for symp in split_comma_strings:\n",
    "        symp_part = [symptom.strip() for symptom in string.split(' and ')]\n",
    "        split_and_symptoms.append(symp_part)\n",
    "\n",
    "\n",
    "    # Then just removing any trailing or leading punctuation if there is any.\n",
    "    # Probably not but just making sure since its a large dataset\n",
    "    strip_symptoms = []\n",
    "    for symptom in split_and_symptoms:\n",
    "        new = symptom.strip('.,')\n",
    "        strip_symptoms.append(new)\n",
    "\n",
    "    # Also normalizing the string to just lowercase for consistency\n",
    "    symptoms = []\n",
    "    for symptom in strip_symptoms:\n",
    "        new = symptom.lower()\n",
    "        symptoms.append(new)\n",
    "\n",
    "    return symptoms"
   ]
  },
  {
   "cell_type": "code",
   "execution_count": null,
   "metadata": {},
   "outputs": [],
   "source": [
    "# Loading the json dataset and removing the treatment field since it isn't needed right now.\n",
    "# Gotta iterate through each field and make a new dictionary\n",
    "\n",
    "def remove_treatment_field():\n",
    "    new_dataset = []\n",
    "\n",
    "    try:\n",
    "\n",
    "        with open('disease_database_en.json', 'r', encoding='utf-8') as fd:\n",
    "            data = json.load(fd)\n",
    "\n",
    "            for entry in data:\n",
    "                new_entry = {\n",
    "                    \"disease_id\": entry[\"disease_id\"],\n",
    "                    \"disease\": entry[\"disease\"],\n",
    "                    \"symptoms\": entry[\"common_symptom\"]\n",
    "                }\n",
    "                new_dataset.append(new_entry)\n",
    "\n",
    "        print(new_dataset)\n",
    "\n",
    "        with open('new_dataset.json', 'w', encoding='utf-8') as output:\n",
    "            json.dump(new_dataset, output, indent = 2)\n",
    "\n",
    "        print(\"Saved dataset!\")\n",
    "        return new_dataset\n",
    "\n",
    "    except Exception as error:\n",
    "        print(f\"An error occured: {error}\")\n",
    "\n",
    "remove_treatment_field()"
   ]
  }
 ],
 "metadata": {
  "kernelspec": {
   "display_name": "Python 3",
   "language": "python",
   "name": "python3"
  },
  "language_info": {
   "codemirror_mode": {
    "name": "ipython",
    "version": 3
   },
   "file_extension": ".py",
   "mimetype": "text/x-python",
   "name": "python",
   "nbconvert_exporter": "python",
   "pygments_lexer": "ipython3",
   "version": "3.12.8"
  }
 },
 "nbformat": 4,
 "nbformat_minor": 2
}
