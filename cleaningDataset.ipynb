{
 "cells": [
  {
   "cell_type": "code",
   "execution_count": null,
   "metadata": {},
   "outputs": [],
   "source": [
    "import json"
   ]
  },
  {
   "cell_type": "code",
   "execution_count": null,
   "metadata": {},
   "outputs": [],
   "source": [
    "# Split symptoms into a list\n",
    "def extract_symptoms(string):\n",
    "    # Splitting on commas\n",
    "    split_comma_strings = [symptom.strip() for symptom in string.split(',')]\n",
    "\n",
    "    # Want to handle any \"and\" that separates symptoms.\n",
    "    # Ex. 'Headache and fever'\n",
    "    # Ex. 'Headache'\n",
    "    # Headache should count as a common symptom for both diseases\n",
    "    split_and_symptoms = []\n",
    "    for symp in split_comma_strings:\n",
    "        symp_part = [symptom.strip() for symptom in string.split(' and ')]\n",
    "        split_and_symptoms.append(symp_part)\n",
    "\n",
    "\n",
    "    # Then just removing any trailing or leading punctuation if there is any.\n",
    "    # Probably not but just making sure since its a large dataset\n",
    "    strip_symptoms = []\n",
    "    for symptom in split_and_symptoms:\n",
    "        new = symptom.strip('.,')\n",
    "        strip_symptoms.append(new)\n",
    "\n",
    "    # Also normalizing the string to just lowercase for consistency\n",
    "    symptoms = []\n",
    "    for symptom in strip_symptoms:\n",
    "        new = symptom.lower()\n",
    "        symptoms.append(new)\n",
    "\n",
    "    return symptoms\n",
    "\n",
    "\n",
    "    \n",
    "\n",
    "\n",
    "\n",
    "\n",
    "\n",
    "\n",
    "\n"
   ]
  }
 ],
 "metadata": {
  "kernelspec": {
   "display_name": "Python 3",
   "language": "python",
   "name": "python3"
  },
  "language_info": {
   "name": "python",
   "version": "3.12.8"
  }
 },
 "nbformat": 4,
 "nbformat_minor": 2
}
